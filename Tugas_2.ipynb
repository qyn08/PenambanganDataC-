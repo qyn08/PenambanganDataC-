{
  "nbformat": 4,
  "nbformat_minor": 0,
  "metadata": {
    "colab": {
      "provenance": [],
      "authorship_tag": "ABX9TyMlOmJIm5ZZiOn/IDW/CgsC",
      "include_colab_link": true
    },
    "kernelspec": {
      "name": "python3",
      "display_name": "Python 3"
    },
    "language_info": {
      "name": "python"
    }
  },
  "cells": [
    {
      "cell_type": "markdown",
      "metadata": {
        "id": "view-in-github",
        "colab_type": "text"
      },
      "source": [
        "<a href=\"https://colab.research.google.com/github/qyn08/PenambanganDataC-/blob/main/Tugas_2.ipynb\" target=\"_parent\"><img src=\"https://colab.research.google.com/assets/colab-badge.svg\" alt=\"Open In Colab\"/></a>"
      ]
    },
    {
      "cell_type": "markdown",
      "source": [
        "Nama  : Muhammad Ainul Yaqin\n",
        "\n",
        "NIM    : 190411100065\n",
        "\n",
        "Kelas : Penambangan Data C"
      ],
      "metadata": {
        "id": "zMA0Dk-WCDg0"
      }
    },
    {
      "cell_type": "markdown",
      "source": [
        "1. Tipe Data\n",
        "\n",
        "Dalam penambangan data, terdapat sebuah ciri khas atau sifat yang dimiliki untuk mudah dikenali dan dipelajari. Ciri khas atau sifat biasa disebut dengan **Atribut**. Atribut sendiri memiliki banyak macam, diantaranya : Atribut Nominal, Atribut Biner, Atribut ordinal, Atribut Numerik, dan Atribut Skala Ratio. \n",
        "\n",
        "- Atribut nominal sering disebut dengan **kategori**, karena bersifat menglasifikasi sebuah objek. Namun, atribut nominal tidak memiliki satuan atau paramater. Misal, status perkawinan (Lajang, Kawin, Cerai Hidup, Cerai Mati).\n",
        "\n",
        "- Atribut biner sama halnya dengan angka biner, yakni terdiri dari 0 dan 1. Artinya, atribut biner hanya berisi 2 nilai, antara iya atau tidak, lulus atau tidak lulus, dll.\n",
        "\n",
        "- Atribut ordinal adalah sebuah pengurutan. Dimana nilai atribut ordinal pasti memiliki nilai yang bertingkat ataupun menurun, dimana tidak ada acuan pasti dari nilai itu sendiri. Misal, sangat buruk - buruk - cukup - baik - sangat baik. \n",
        "\n",
        "- Atribut numerik, sebuah atribut yang berbeda dari 3 atribut sebelumnya. Atribut numerik memiliki sebuah nilai pasti yang dapat diketahui. Misal, suhu 20 derajat dengan suhu 15 derajat, tahun kelahiran (2001 -2005), dll.\n",
        "\n",
        "- Atribut skala ratio, sebuah atribut yang dimulai dari 0. Mirip dengan atribut numerik, dimana satuan atau paramaternya pasti diketahui. Namun, atribut skala ratio selalu dapat dihitung dengan dimulai dari 0."
      ],
      "metadata": {
        "id": "bxXKDvvTCQ6w"
      }
    },
    {
      "cell_type": "markdown",
      "source": [
        "2. Data"
      ],
      "metadata": {
        "id": "EB4spF40How1"
      }
    },
    {
      "cell_type": "code",
      "source": [
        "from google.colab import drive\n",
        "\n",
        "drive.mount('/content/drive')"
      ],
      "metadata": {
        "colab": {
          "base_uri": "https://localhost:8080/"
        },
        "id": "VWBnWGkgImyC",
        "outputId": "5abfb052-1cb2-43f3-90fd-909625564cc9"
      },
      "execution_count": 6,
      "outputs": [
        {
          "output_type": "stream",
          "name": "stdout",
          "text": [
            "Mounted at /content/drive\n"
          ]
        }
      ]
    },
    {
      "cell_type": "code",
      "source": [
        "import pandas as pd\n",
        " \n",
        "df = pd.read_csv(\"mydata.csv\")\n",
        "print(df)"
      ],
      "metadata": {
        "colab": {
          "base_uri": "https://localhost:8080/"
        },
        "id": "YWaS4rd2JBZR",
        "outputId": "e3d03ae4-74ce-472f-afc9-fd911cc734c3"
      },
      "execution_count": 7,
      "outputs": [
        {
          "output_type": "stream",
          "name": "stdout",
          "text": [
            "            Prodi;Usia;IPK;Lulus;predikat\n",
            "0            Informatika;20;03.07;Ya;baik\n",
            "1  Sistem Informasi;18;02.06;Tidak;kurang\n",
            "2           Teknik Industri;20;3;Ya;cukup\n",
            "3           Informatika;19;03.01;Ya;cukup\n",
            "4            Informatika;23;03.05;Ya;baik\n",
            "5       Teknik Industri;22;03.02;Ya;cukup\n",
            "6   Sistem Informasi;24;03.03;Tidak;cukup\n",
            "7  Sistem Informasi;19;02.08;Tidak;kurang\n",
            "8            Informatika;20;03.05;Ya;baik\n",
            "9      Teknik Industri;21;03.02;Ya;kurang\n"
          ]
        }
      ]
    },
    {
      "cell_type": "markdown",
      "source": [
        "3. Source Code Python"
      ],
      "metadata": {
        "id": "UZDUhya8KC0a"
      }
    },
    {
      "cell_type": "code",
      "source": [
        "import pandas as pd\n",
        "import numpy as np\n",
        "from sklearn.cluster import KMeans\n",
        "from sklearn.preprocessing import LabelEncoder\n",
        "from sklearn.preprocessing import MinMaxScaler\n",
        "import seaborn as sns\n",
        "import matplotlib.pyplot as plt\n",
        "%matplotlib inline"
      ],
      "metadata": {
        "id": "o69tmOqZMS97"
      },
      "execution_count": 11,
      "outputs": []
    },
    {
      "cell_type": "code",
      "source": [
        "train = 'mydata.csv'\n",
        "test = pd.read_csv(train)\n",
        "print(test)"
      ],
      "metadata": {
        "colab": {
          "base_uri": "https://localhost:8080/"
        },
        "id": "p0jsBeb8MirR",
        "outputId": "e542abf8-1618-499c-9cc6-954aa21e56c7"
      },
      "execution_count": 12,
      "outputs": [
        {
          "output_type": "stream",
          "name": "stdout",
          "text": [
            "            Prodi;Usia;IPK;Lulus;predikat\n",
            "0            Informatika;20;03.07;Ya;baik\n",
            "1  Sistem Informasi;18;02.06;Tidak;kurang\n",
            "2           Teknik Industri;20;3;Ya;cukup\n",
            "3           Informatika;19;03.01;Ya;cukup\n",
            "4            Informatika;23;03.05;Ya;baik\n",
            "5       Teknik Industri;22;03.02;Ya;cukup\n",
            "6   Sistem Informasi;24;03.03;Tidak;cukup\n",
            "7  Sistem Informasi;19;02.08;Tidak;kurang\n",
            "8            Informatika;20;03.05;Ya;baik\n",
            "9      Teknik Industri;21;03.02;Ya;kurang\n"
          ]
        }
      ]
    },
    {
      "cell_type": "code",
      "source": [
        "test.info()"
      ],
      "metadata": {
        "colab": {
          "base_uri": "https://localhost:8080/"
        },
        "id": "uPkqNh73Ngrx",
        "outputId": "d986ef21-ba9e-478c-d679-72f3819c1f6c"
      },
      "execution_count": 13,
      "outputs": [
        {
          "output_type": "stream",
          "name": "stdout",
          "text": [
            "<class 'pandas.core.frame.DataFrame'>\n",
            "RangeIndex: 10 entries, 0 to 9\n",
            "Data columns (total 1 columns):\n",
            " #   Column                         Non-Null Count  Dtype \n",
            "---  ------                         --------------  ----- \n",
            " 0   Prodi;Usia;IPK;Lulus;predikat  10 non-null     object\n",
            "dtypes: object(1)\n",
            "memory usage: 208.0+ bytes\n"
          ]
        }
      ]
    },
    {
      "cell_type": "code",
      "source": [
        "test.describe()"
      ],
      "metadata": {
        "colab": {
          "base_uri": "https://localhost:8080/",
          "height": 174
        },
        "id": "Me1kzVlZOIJZ",
        "outputId": "5b731538-52a9-423c-84a0-0aab79448ebe"
      },
      "execution_count": 14,
      "outputs": [
        {
          "output_type": "execute_result",
          "data": {
            "text/plain": [
              "       Prodi;Usia;IPK;Lulus;predikat\n",
              "count                             10\n",
              "unique                            10\n",
              "top     Informatika;20;03.07;Ya;baik\n",
              "freq                               1"
            ],
            "text/html": [
              "\n",
              "  <div id=\"df-8047bde3-f68a-41f9-a7c7-bcf74f6f08bf\">\n",
              "    <div class=\"colab-df-container\">\n",
              "      <div>\n",
              "<style scoped>\n",
              "    .dataframe tbody tr th:only-of-type {\n",
              "        vertical-align: middle;\n",
              "    }\n",
              "\n",
              "    .dataframe tbody tr th {\n",
              "        vertical-align: top;\n",
              "    }\n",
              "\n",
              "    .dataframe thead th {\n",
              "        text-align: right;\n",
              "    }\n",
              "</style>\n",
              "<table border=\"1\" class=\"dataframe\">\n",
              "  <thead>\n",
              "    <tr style=\"text-align: right;\">\n",
              "      <th></th>\n",
              "      <th>Prodi;Usia;IPK;Lulus;predikat</th>\n",
              "    </tr>\n",
              "  </thead>\n",
              "  <tbody>\n",
              "    <tr>\n",
              "      <th>count</th>\n",
              "      <td>10</td>\n",
              "    </tr>\n",
              "    <tr>\n",
              "      <th>unique</th>\n",
              "      <td>10</td>\n",
              "    </tr>\n",
              "    <tr>\n",
              "      <th>top</th>\n",
              "      <td>Informatika;20;03.07;Ya;baik</td>\n",
              "    </tr>\n",
              "    <tr>\n",
              "      <th>freq</th>\n",
              "      <td>1</td>\n",
              "    </tr>\n",
              "  </tbody>\n",
              "</table>\n",
              "</div>\n",
              "      <button class=\"colab-df-convert\" onclick=\"convertToInteractive('df-8047bde3-f68a-41f9-a7c7-bcf74f6f08bf')\"\n",
              "              title=\"Convert this dataframe to an interactive table.\"\n",
              "              style=\"display:none;\">\n",
              "        \n",
              "  <svg xmlns=\"http://www.w3.org/2000/svg\" height=\"24px\"viewBox=\"0 0 24 24\"\n",
              "       width=\"24px\">\n",
              "    <path d=\"M0 0h24v24H0V0z\" fill=\"none\"/>\n",
              "    <path d=\"M18.56 5.44l.94 2.06.94-2.06 2.06-.94-2.06-.94-.94-2.06-.94 2.06-2.06.94zm-11 1L8.5 8.5l.94-2.06 2.06-.94-2.06-.94L8.5 2.5l-.94 2.06-2.06.94zm10 10l.94 2.06.94-2.06 2.06-.94-2.06-.94-.94-2.06-.94 2.06-2.06.94z\"/><path d=\"M17.41 7.96l-1.37-1.37c-.4-.4-.92-.59-1.43-.59-.52 0-1.04.2-1.43.59L10.3 9.45l-7.72 7.72c-.78.78-.78 2.05 0 2.83L4 21.41c.39.39.9.59 1.41.59.51 0 1.02-.2 1.41-.59l7.78-7.78 2.81-2.81c.8-.78.8-2.07 0-2.86zM5.41 20L4 18.59l7.72-7.72 1.47 1.35L5.41 20z\"/>\n",
              "  </svg>\n",
              "      </button>\n",
              "      \n",
              "  <style>\n",
              "    .colab-df-container {\n",
              "      display:flex;\n",
              "      flex-wrap:wrap;\n",
              "      gap: 12px;\n",
              "    }\n",
              "\n",
              "    .colab-df-convert {\n",
              "      background-color: #E8F0FE;\n",
              "      border: none;\n",
              "      border-radius: 50%;\n",
              "      cursor: pointer;\n",
              "      display: none;\n",
              "      fill: #1967D2;\n",
              "      height: 32px;\n",
              "      padding: 0 0 0 0;\n",
              "      width: 32px;\n",
              "    }\n",
              "\n",
              "    .colab-df-convert:hover {\n",
              "      background-color: #E2EBFA;\n",
              "      box-shadow: 0px 1px 2px rgba(60, 64, 67, 0.3), 0px 1px 3px 1px rgba(60, 64, 67, 0.15);\n",
              "      fill: #174EA6;\n",
              "    }\n",
              "\n",
              "    [theme=dark] .colab-df-convert {\n",
              "      background-color: #3B4455;\n",
              "      fill: #D2E3FC;\n",
              "    }\n",
              "\n",
              "    [theme=dark] .colab-df-convert:hover {\n",
              "      background-color: #434B5C;\n",
              "      box-shadow: 0px 1px 3px 1px rgba(0, 0, 0, 0.15);\n",
              "      filter: drop-shadow(0px 1px 2px rgba(0, 0, 0, 0.3));\n",
              "      fill: #FFFFFF;\n",
              "    }\n",
              "  </style>\n",
              "\n",
              "      <script>\n",
              "        const buttonEl =\n",
              "          document.querySelector('#df-8047bde3-f68a-41f9-a7c7-bcf74f6f08bf button.colab-df-convert');\n",
              "        buttonEl.style.display =\n",
              "          google.colab.kernel.accessAllowed ? 'block' : 'none';\n",
              "\n",
              "        async function convertToInteractive(key) {\n",
              "          const element = document.querySelector('#df-8047bde3-f68a-41f9-a7c7-bcf74f6f08bf');\n",
              "          const dataTable =\n",
              "            await google.colab.kernel.invokeFunction('convertToInteractive',\n",
              "                                                     [key], {});\n",
              "          if (!dataTable) return;\n",
              "\n",
              "          const docLinkHtml = 'Like what you see? Visit the ' +\n",
              "            '<a target=\"_blank\" href=https://colab.research.google.com/notebooks/data_table.ipynb>data table notebook</a>'\n",
              "            + ' to learn more about interactive tables.';\n",
              "          element.innerHTML = '';\n",
              "          dataTable['output_type'] = 'display_data';\n",
              "          await google.colab.output.renderOutput(dataTable, element);\n",
              "          const docLink = document.createElement('div');\n",
              "          docLink.innerHTML = docLinkHtml;\n",
              "          element.appendChild(docLink);\n",
              "        }\n",
              "      </script>\n",
              "    </div>\n",
              "  </div>\n",
              "  "
            ]
          },
          "metadata": {},
          "execution_count": 14
        }
      ]
    },
    {
      "cell_type": "code",
      "source": [
        "test.isnull().sum()"
      ],
      "metadata": {
        "colab": {
          "base_uri": "https://localhost:8080/"
        },
        "id": "Lfo3z9CMOe7z",
        "outputId": "1e2da9b9-c9fb-4bf1-d163-59c5a43009a2"
      },
      "execution_count": 15,
      "outputs": [
        {
          "output_type": "execute_result",
          "data": {
            "text/plain": [
              "Prodi;Usia;IPK;Lulus;predikat    0\n",
              "dtype: int64"
            ]
          },
          "metadata": {},
          "execution_count": 15
        }
      ]
    }
  ]
}