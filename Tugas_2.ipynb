{
  "nbformat": 4,
  "nbformat_minor": 0,
  "metadata": {
    "colab": {
      "provenance": [],
      "authorship_tag": "ABX9TyNMMHtj3UgGUDXoJz8lE0vm",
      "include_colab_link": true
    },
    "kernelspec": {
      "name": "python3",
      "display_name": "Python 3"
    },
    "language_info": {
      "name": "python"
    }
  },
  "cells": [
    {
      "cell_type": "markdown",
      "metadata": {
        "id": "view-in-github",
        "colab_type": "text"
      },
      "source": [
        "<a href=\"https://colab.research.google.com/github/qyn08/PenambanganDataC-/blob/main/Tugas_2.ipynb\" target=\"_parent\"><img src=\"https://colab.research.google.com/assets/colab-badge.svg\" alt=\"Open In Colab\"/></a>"
      ]
    },
    {
      "cell_type": "markdown",
      "source": [
        "Nama  : Muhammad Ainul Yaqin\n",
        "\n",
        "NIM    : 190411100065\n",
        "\n",
        "Kelas : Penambangan Data C"
      ],
      "metadata": {
        "id": "zMA0Dk-WCDg0"
      }
    },
    {
      "cell_type": "markdown",
      "source": [
        "1. Tipe Data\n",
        "\n",
        "Dalam penambangan data, terdapat sebuah ciri khas atau sifat yang dimiliki untuk mudah dikenali dan dipelajari. Ciri khas atau sifat biasa disebut dengan **Atribut**. Atribut sendiri memiliki banyak macam, diantaranya : Atribut Nominal, Atribut Biner, Atribut ordinal, Atribut Numerik, dan Atribut Skala Ratio. \n",
        "\n",
        "- Atribut nominal sering disebut dengan **kategori**, karena bersifat menglasifikasi sebuah objek. Namun, atribut nominal tidak memiliki satuan atau paramater. Misal, status perkawinan (Lajang, Kawin, Cerai Hidup, Cerai Mati).\n",
        "\n",
        "- Atribut biner sama halnya dengan angka biner, yakni terdiri dari 0 dan 1. Artinya, atribut biner hanya berisi 2 nilai, antara iya atau tidak, lulus atau tidak lulus, dll.\n",
        "\n",
        "- Atribut ordinal adalah sebuah pengurutan. Dimana nilai atribut ordinal pasti memiliki nilai yang bertingkat ataupun menurun, dimana tidak ada acuan pasti dari nilai itu sendiri. Misal, sangat buruk - buruk - cukup - baik - sangat baik. \n",
        "\n",
        "- Atribut numerik, sebuah atribut yang berbeda dari 3 atribut sebelumnya. Atribut numerik memiliki sebuah nilai pasti yang dapat diketahui. Misal, suhu 20 derajat dengan suhu 15 derajat, tahun kelahiran (2001 -2005), dll.\n",
        "\n",
        "- Atribut skala ratio, sebuah atribut yang dimulai dari 0. Mirip dengan atribut numerik, dimana satuan atau paramaternya pasti diketahui. Namun, atribut skala ratio selalu dapat dihitung dengan dimulai dari 0."
      ],
      "metadata": {
        "id": "bxXKDvvTCQ6w"
      }
    },
    {
      "cell_type": "markdown",
      "source": [
        "2. Data"
      ],
      "metadata": {
        "id": "EB4spF40How1"
      }
    },
    {
      "cell_type": "code",
      "source": [
        "from google.colab import drive\n",
        "\n",
        "drive.mount('/content/drive')"
      ],
      "metadata": {
        "colab": {
          "base_uri": "https://localhost:8080/"
        },
        "id": "VWBnWGkgImyC",
        "outputId": "5abfb052-1cb2-43f3-90fd-909625564cc9"
      },
      "execution_count": 6,
      "outputs": [
        {
          "output_type": "stream",
          "name": "stdout",
          "text": [
            "Mounted at /content/drive\n"
          ]
        }
      ]
    },
    {
      "cell_type": "code",
      "source": [
        "import pandas as pd\n",
        " \n",
        "df = pd.read_csv(\"mydata.csv\")\n",
        "print(df)"
      ],
      "metadata": {
        "colab": {
          "base_uri": "https://localhost:8080/"
        },
        "id": "YWaS4rd2JBZR",
        "outputId": "e3d03ae4-74ce-472f-afc9-fd911cc734c3"
      },
      "execution_count": 7,
      "outputs": [
        {
          "output_type": "stream",
          "name": "stdout",
          "text": [
            "            Prodi;Usia;IPK;Lulus;predikat\n",
            "0            Informatika;20;03.07;Ya;baik\n",
            "1  Sistem Informasi;18;02.06;Tidak;kurang\n",
            "2           Teknik Industri;20;3;Ya;cukup\n",
            "3           Informatika;19;03.01;Ya;cukup\n",
            "4            Informatika;23;03.05;Ya;baik\n",
            "5       Teknik Industri;22;03.02;Ya;cukup\n",
            "6   Sistem Informasi;24;03.03;Tidak;cukup\n",
            "7  Sistem Informasi;19;02.08;Tidak;kurang\n",
            "8            Informatika;20;03.05;Ya;baik\n",
            "9      Teknik Industri;21;03.02;Ya;kurang\n"
          ]
        }
      ]
    },
    {
      "cell_type": "markdown",
      "source": [
        "3. Source Code Python"
      ],
      "metadata": {
        "id": "UZDUhya8KC0a"
      }
    }
  ]
}